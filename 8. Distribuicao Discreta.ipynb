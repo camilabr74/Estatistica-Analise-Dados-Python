{
  "nbformat": 4,
  "nbformat_minor": 0,
  "metadata": {
    "colab": {
      "provenance": [],
      "include_colab_link": true
    },
    "kernelspec": {
      "name": "python3",
      "display_name": "Python 3"
    },
    "language_info": {
      "name": "python"
    }
  },
  "cells": [
    {
      "cell_type": "markdown",
      "metadata": {
        "id": "view-in-github",
        "colab_type": "text"
      },
      "source": [
        "<a href=\"https://colab.research.google.com/github/camilabr74/Estatistica-Analise-Dados-Python/blob/main/8.%20Distribuicao%20Discreta.ipynb\" target=\"_parent\"><img src=\"https://colab.research.google.com/assets/colab-badge.svg\" alt=\"Open In Colab\"/></a>"
      ]
    },
    {
      "cell_type": "markdown",
      "metadata": {
        "id": "o1l_Hn4Y205Y"
      },
      "source": [
        "# **Distribuição Discreta**"
      ]
    },
    {
      "cell_type": "code",
      "source": [
        "from google.colab import drive\n",
        "drive.mount('/content/drive')"
      ],
      "metadata": {
        "colab": {
          "base_uri": "https://localhost:8080/"
        },
        "id": "S2kHhyoR3Twl",
        "outputId": "23bec0d5-af14-4831-d350-d7848552f88e"
      },
      "execution_count": null,
      "outputs": [
        {
          "output_type": "stream",
          "name": "stdout",
          "text": [
            "Mounted at /content/drive\n"
          ]
        }
      ]
    },
    {
      "cell_type": "code",
      "metadata": {
        "id": "KyCE-Wmy24Uv"
      },
      "source": [
        "import numpy as np\n",
        "import pandas as pd"
      ],
      "execution_count": null,
      "outputs": []
    },
    {
      "cell_type": "code",
      "metadata": {
        "id": "GMQGhQnt3B8-"
      },
      "source": [
        "enem_sp = pd.read_csv('/content/drive/MyDrive/programa_formacao/Estatistica_Analise_Dados_Python/enem_2019_tratado.csv',\n",
        "                      sep=',', encoding='iso-8859-1')"
      ],
      "execution_count": null,
      "outputs": []
    },
    {
      "cell_type": "markdown",
      "metadata": {
        "id": "sX7FY6UX61QV"
      },
      "source": [
        "## Distribuição Binomial"
      ]
    },
    {
      "cell_type": "code",
      "metadata": {
        "id": "6HNMC-mQ2zVa"
      },
      "source": [
        "from scipy.stats import binom"
      ],
      "execution_count": null,
      "outputs": []
    },
    {
      "cell_type": "code",
      "metadata": {
        "id": "44vb3Ow_8VSi"
      },
      "source": [
        "# PROBABILIDADE DE RETIRAR UMA MULHER\n",
        "mulher_enem = enem_sp.loc[enem_sp.SEXO == 'F']"
      ],
      "execution_count": null,
      "outputs": []
    },
    {
      "cell_type": "code",
      "metadata": {
        "colab": {
          "base_uri": "https://localhost:8080/"
        },
        "id": "NeE5KHytQkRS",
        "outputId": "501069d2-c77a-4235-c6b3-d2d572534f5a"
      },
      "source": [
        "p = len(mulher_enem) / len(enem_sp)\n",
        "p"
      ],
      "execution_count": null,
      "outputs": [
        {
          "output_type": "execute_result",
          "data": {
            "text/plain": [
              "0.5803136376365163"
            ]
          },
          "metadata": {},
          "execution_count": 6
        }
      ]
    },
    {
      "cell_type": "markdown",
      "metadata": {
        "id": "CI9vWO8M9h-2"
      },
      "source": [
        "binom.pmf = valor pontual\n",
        "\n",
        "binom.cdf = faixa de valores (acumulada)"
      ]
    },
    {
      "cell_type": "code",
      "metadata": {
        "colab": {
          "base_uri": "https://localhost:8080/"
        },
        "id": "Mts7Oo6A9NH_",
        "outputId": "4f383626-4a36-4c47-807a-338d907f30b9"
      },
      "source": [
        "# PROBABILIDADE DE RETIRAR EXATAMENTE 4 MULHERES NUM TOTAL DE 10 AMOSTRAS\n",
        "\n",
        "binom.pmf(4,10,p)\n",
        "\n",
        "# Primeiro parâmetro:valor ou limite que se está pretendo calcular (4 mulheres)\n",
        "# Segundo: número de tentativas (10 amostras)\n",
        "# Terceiro: probabilidade de um sucesso."
      ],
      "execution_count": null,
      "outputs": [
        {
          "output_type": "execute_result",
          "data": {
            "text/plain": [
              "0.13014261971434243"
            ]
          },
          "metadata": {},
          "execution_count": 7
        }
      ]
    },
    {
      "cell_type": "code",
      "metadata": {
        "colab": {
          "base_uri": "https://localhost:8080/"
        },
        "id": "HvOI10drC_GF",
        "outputId": "e91dcf47-e087-424e-d70b-9c71a4dcfbd7"
      },
      "source": [
        "# PROBABILIDADE DE RETIRAR PELO MENOS UMA MULHER NUM TOTAL DE 10 AMOSTRAS\n",
        "#utilizando 1- para probabilidade de não ocorrência (pelo menos 1, ou seja, não é 0)\n",
        "\n",
        "p0 = 1 - binom.pmf(0,10,p)\n",
        "p0"
      ],
      "execution_count": null,
      "outputs": [
        {
          "output_type": "execute_result",
          "data": {
            "text/plain": [
              "0.9998304692157152"
            ]
          },
          "metadata": {},
          "execution_count": 10
        }
      ]
    },
    {
      "cell_type": "code",
      "metadata": {
        "colab": {
          "base_uri": "https://localhost:8080/"
        },
        "id": "NQ52M4UPDbdq",
        "outputId": "595fff9f-6e0a-4aca-e2cf-09a824a5a45b"
      },
      "source": [
        "# PROBABILIDADE DE RETIRAR MAIS DO QUE 1 MULHER NUM TOTAL DE 10 AMOSTRAS\n",
        "#utilizando 1- para probabilidade de não ocorrência (pelo menos 2, ou seja, não é 0 e nem 1)\n",
        "\n",
        "p1 = 1 - (binom.pmf(0,10,p)+binom.pmf(1,10,p))\n",
        "p1"
      ],
      "execution_count": null,
      "outputs": [
        {
          "output_type": "execute_result",
          "data": {
            "text/plain": [
              "0.997486313318782"
            ]
          },
          "metadata": {},
          "execution_count": 9
        }
      ]
    },
    {
      "cell_type": "code",
      "metadata": {
        "colab": {
          "base_uri": "https://localhost:8080/"
        },
        "id": "B83PrmCcDxbj",
        "outputId": "8f13186b-3354-4e9f-e8cc-ee82cb00f6ac"
      },
      "source": [
        "# PROBABILIDADE DE RETIRAR MAIS DO QUE 3 MULHERES NUM TOTAL DE 10 AMOSTRAS\n",
        "#utilizando 1- para probabilidade de não ocorrência (pelo mais do que 3, ou seja, não é 0 e nem 1, 2 ou 3)\n",
        "\n",
        "p2p2 = 1 - (binom.pmf(0,10,p)+binom.pmf(1,10,p)+binom.pmf(2,10,p)+binom.pmf(3,10,p))"
      ],
      "execution_count": null,
      "outputs": [
        {
          "output_type": "execute_result",
          "data": {
            "text/plain": [
              "0.9291174685122049"
            ]
          },
          "metadata": {
            "tags": []
          },
          "execution_count": 9
        }
      ]
    },
    {
      "cell_type": "code",
      "metadata": {
        "colab": {
          "base_uri": "https://localhost:8080/"
        },
        "id": "Yf_QuuZKMUNB",
        "outputId": "31cf927c-e1b7-4a84-ebe8-53477c10ebf7"
      },
      "source": [
        "# PROBABILIDADE DE RETIRAR MAIS DO QUE 3 MULHERES NUM TOTAL DE 10 AMOSTRAS\n",
        "#probabilidade de tirar 4, 5,6,7,8,9 ou 10 mulheres (sem o -1)\n",
        "p2 = binom.pmf(4,10,p)+binom.pmf(5,10,p)+binom.pmf(6,10,p)+binom.pmf(7,10,p)+binom.pmf(8,10,p)+binom.pmf(9,10,p)+binom.pmf(10,10,p)\n",
        "p2"
      ],
      "execution_count": null,
      "outputs": [
        {
          "output_type": "execute_result",
          "data": {
            "text/plain": [
              "0.9291174685122056"
            ]
          },
          "metadata": {
            "tags": []
          },
          "execution_count": 11
        }
      ]
    },
    {
      "cell_type": "code",
      "metadata": {
        "colab": {
          "base_uri": "https://localhost:8080/"
        },
        "id": "qrc8OWVdEGSS",
        "outputId": "da50d7c1-ec0c-4280-8558-19d5e59f9a18"
      },
      "source": [
        "# OUTRA FORMA (CDF)\n",
        "#acumulado até o 3, ou seja, a não ocorrencia de 0, 1, 2 e 3\n",
        "#pmf pensa pontualmente, cdf pensa no acúmulo\n",
        "p3 = 1 - binom.cdf(3, 10, p)\n",
        "p3"
      ],
      "execution_count": null,
      "outputs": [
        {
          "output_type": "execute_result",
          "data": {
            "text/plain": [
              "0.929117468512205"
            ]
          },
          "metadata": {
            "tags": []
          },
          "execution_count": 12
        }
      ]
    },
    {
      "cell_type": "code",
      "metadata": {
        "colab": {
          "base_uri": "https://localhost:8080/"
        },
        "id": "Qblfs10VFjuv",
        "outputId": "de1b412e-1554-4a12-ad8c-8963bb4ec80e"
      },
      "source": [
        "# PROBABILIDADE DE RETIRAR MAIS DO QUE 8 MULHERES NUM TOTAL DE 10 AMOSTRAS\n",
        "# probabilidade de tirar 9, probabilidade de tirar 10 mulheres\n",
        "p4 = binom.pmf(9,10,p)+binom.pmf(10,10,p)\n",
        "p4\n"
      ],
      "execution_count": null,
      "outputs": [
        {
          "output_type": "execute_result",
          "data": {
            "text/plain": [
              "0.0356563059595738"
            ]
          },
          "metadata": {},
          "execution_count": 11
        }
      ]
    },
    {
      "cell_type": "code",
      "metadata": {
        "colab": {
          "base_uri": "https://localhost:8080/"
        },
        "id": "hZOwxY22F17D",
        "outputId": "c8cff16b-7130-4451-ce1d-f559896a8597"
      },
      "source": [
        "# OUTRA FORMA\n",
        "#o total de 0 a 10 mulheres -0 a 8 mulheres\n",
        "p5 = binom.cdf(10, 10, p) - binom.cdf(8, 10, p)\n",
        "p5"
      ],
      "execution_count": null,
      "outputs": [
        {
          "output_type": "execute_result",
          "data": {
            "text/plain": [
              "0.03565630595957381"
            ]
          },
          "metadata": {},
          "execution_count": 12
        }
      ]
    },
    {
      "cell_type": "markdown",
      "metadata": {
        "id": "nvMHLvJfIoDf"
      },
      "source": [
        "## Distribuição Geométrica"
      ]
    },
    {
      "cell_type": "code",
      "metadata": {
        "id": "IR1g2RkFI5ER"
      },
      "source": [
        "from scipy.stats import geom"
      ],
      "execution_count": null,
      "outputs": []
    },
    {
      "cell_type": "code",
      "metadata": {
        "colab": {
          "base_uri": "https://localhost:8080/"
        },
        "id": "Ft7_jnHaI7J8",
        "outputId": "73d71934-99d8-4ceb-f918-8c8cb5a33455"
      },
      "source": [
        "# PROBABILIDADE DE RETIRAR 3 AMOSTRAS E NENHUMA SER MULHER\n",
        "#sucesso seria na 4 amostra, se são 3 fracassos, o sucesso será no quarto\n",
        "# geom.pmf(x,p) x representa a tentativa que se obteve sucesso e p a probabilidade\n",
        "geom.pmf(4, p)\n",
        "\n"
      ],
      "execution_count": null,
      "outputs": [
        {
          "output_type": "execute_result",
          "data": {
            "text/plain": [
              "0.042898029955685306"
            ]
          },
          "metadata": {},
          "execution_count": 14
        }
      ]
    },
    {
      "cell_type": "markdown",
      "metadata": {
        "id": "ipFZGhUYGGq8"
      },
      "source": [
        "## Distribuição de Poisson"
      ]
    },
    {
      "cell_type": "code",
      "metadata": {
        "id": "v-f6tec8GF2L"
      },
      "source": [
        "from scipy.stats import poisson"
      ],
      "execution_count": null,
      "outputs": []
    },
    {
      "cell_type": "code",
      "metadata": {
        "colab": {
          "base_uri": "https://localhost:8080/"
        },
        "id": "q6f8mGj5Huw4",
        "outputId": "46715393-cdf5-4518-8acf-73bb0bf71351"
      },
      "source": [
        "# Num local de prova, 100 vestibulandos, normalmente, terminaram a prova em 2 horas (tempo mínimo).\n",
        "# Probabilidade de exatamente 90 vestibulandos terminarem a prova em 2h.\n",
        "\n",
        "# poisson.pmf(x, m) x é a quantidade de ocorrências EM ESTUDO e m é a taxa de ocorrências.\n",
        "\n",
        "poisson.pmf(90,100)"
      ],
      "execution_count": null,
      "outputs": [
        {
          "output_type": "execute_result",
          "data": {
            "text/plain": [
              "0.025038944623030353"
            ]
          },
          "metadata": {},
          "execution_count": 17
        }
      ]
    }
  ]
}