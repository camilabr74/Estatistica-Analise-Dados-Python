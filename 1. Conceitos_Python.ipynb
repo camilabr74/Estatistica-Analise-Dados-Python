{
  "nbformat": 4,
  "nbformat_minor": 0,
  "metadata": {
    "colab": {
      "provenance": [],
      "toc_visible": true,
      "include_colab_link": true
    },
    "kernelspec": {
      "name": "python3",
      "display_name": "Python 3"
    },
    "language_info": {
      "name": "python"
    }
  },
  "cells": [
    {
      "cell_type": "markdown",
      "metadata": {
        "id": "view-in-github",
        "colab_type": "text"
      },
      "source": [
        "<a href=\"https://colab.research.google.com/github/camilabr74/primeiro-caderno/blob/conceitos-python/Conceitos_Python.ipynb\" target=\"_parent\"><img src=\"https://colab.research.google.com/assets/colab-badge.svg\" alt=\"Open In Colab\"/></a>"
      ]
    },
    {
      "cell_type": "markdown",
      "source": [
        "# **Introdução**"
      ],
      "metadata": {
        "id": "Euw6L-mYB_5L"
      }
    },
    {
      "cell_type": "markdown",
      "source": [
        "# **Operadores Matemáticos**"
      ],
      "metadata": {
        "id": "oKCyEL9ZJ-d0"
      }
    },
    {
      "cell_type": "markdown",
      "source": [
        "**Soma**"
      ],
      "metadata": {
        "id": "BGBBp9PJMHJ7"
      }
    },
    {
      "cell_type": "code",
      "source": [
        "n1 = 10"
      ],
      "metadata": {
        "id": "CERKGhAoKQ69"
      },
      "execution_count": 1,
      "outputs": []
    },
    {
      "cell_type": "code",
      "source": [
        "n2 = 8"
      ],
      "metadata": {
        "id": "zl9ZJzZsKSV0"
      },
      "execution_count": 2,
      "outputs": []
    },
    {
      "cell_type": "code",
      "source": [
        "s = n1 + n2\n",
        "s"
      ],
      "metadata": {
        "colab": {
          "base_uri": "https://localhost:8080/"
        },
        "id": "9NcC_HRcKSnd",
        "outputId": "ae42e887-c222-49f0-85cc-bf6bb273a8ee"
      },
      "execution_count": 3,
      "outputs": [
        {
          "output_type": "execute_result",
          "data": {
            "text/plain": [
              "18"
            ]
          },
          "metadata": {},
          "execution_count": 3
        }
      ]
    },
    {
      "cell_type": "markdown",
      "source": [
        "**Somando uma variável a um número e atualizando**\n",
        "```\n",
        "Somar:\n",
        "s = s + n2\n",
        "s += n2\n",
        "s = 4 + n2 (aqui atualiza a variável 2)\n",
        "```"
      ],
      "metadata": {
        "id": "0Ftzp-JjMcF8"
      }
    },
    {
      "cell_type": "code",
      "source": [
        "s += n2"
      ],
      "metadata": {
        "id": "Avoyw7pIMLEL"
      },
      "execution_count": 4,
      "outputs": []
    },
    {
      "cell_type": "code",
      "source": [
        "print(s)"
      ],
      "metadata": {
        "colab": {
          "base_uri": "https://localhost:8080/"
        },
        "id": "uqlaoi_INaWL",
        "outputId": "652f2f34-7f48-4a3c-fc92-18038096aefc"
      },
      "execution_count": 5,
      "outputs": [
        {
          "output_type": "stream",
          "name": "stdout",
          "text": [
            "26\n"
          ]
        }
      ]
    },
    {
      "cell_type": "markdown",
      "source": [
        "**Subtração**"
      ],
      "metadata": {
        "id": "TFnaE_EeOPvY"
      }
    },
    {
      "cell_type": "code",
      "source": [
        "sub = s - n2"
      ],
      "metadata": {
        "id": "2nBHiGFUOoYs"
      },
      "execution_count": 6,
      "outputs": []
    },
    {
      "cell_type": "code",
      "source": [
        "print(sub)"
      ],
      "metadata": {
        "colab": {
          "base_uri": "https://localhost:8080/"
        },
        "id": "5hXZBDUAOt7e",
        "outputId": "fd7a7af8-3161-48a4-d8c7-74ce81aa8540"
      },
      "execution_count": 7,
      "outputs": [
        {
          "output_type": "stream",
          "name": "stdout",
          "text": [
            "18\n"
          ]
        }
      ]
    },
    {
      "cell_type": "markdown",
      "source": [
        "**Multiplicação**"
      ],
      "metadata": {
        "id": "uFlUgLvwOxbW"
      }
    },
    {
      "cell_type": "code",
      "source": [
        "mult = n1 * n2"
      ],
      "metadata": {
        "id": "HE3Ym-q8OzkK"
      },
      "execution_count": 8,
      "outputs": []
    },
    {
      "cell_type": "code",
      "source": [
        "mult"
      ],
      "metadata": {
        "colab": {
          "base_uri": "https://localhost:8080/"
        },
        "id": "1cjXFXldO2_E",
        "outputId": "cca0f333-bf08-4cd4-bd59-c421bde54ee6"
      },
      "execution_count": 9,
      "outputs": [
        {
          "output_type": "execute_result",
          "data": {
            "text/plain": [
              "80"
            ]
          },
          "metadata": {},
          "execution_count": 9
        }
      ]
    },
    {
      "cell_type": "markdown",
      "source": [
        "Divisão"
      ],
      "metadata": {
        "id": "xPUxpivvO5s6"
      }
    },
    {
      "cell_type": "code",
      "source": [
        "div = n1 / n2\n",
        "print(div)"
      ],
      "metadata": {
        "colab": {
          "base_uri": "https://localhost:8080/"
        },
        "id": "11FqBLHUPCpA",
        "outputId": "518d3cef-0874-4889-83c8-0efe2ef4264b"
      },
      "execution_count": 10,
      "outputs": [
        {
          "output_type": "stream",
          "name": "stdout",
          "text": [
            "1.25\n"
          ]
        }
      ]
    },
    {
      "cell_type": "markdown",
      "source": [
        "**Potência**\n",
        "\n",
        "Usar: ** ou pow"
      ],
      "metadata": {
        "id": "UikeQ3cdPO6N"
      }
    },
    {
      "cell_type": "code",
      "source": [
        "pot = n1**n2"
      ],
      "metadata": {
        "id": "QRk1jI_6PVpc"
      },
      "execution_count": 11,
      "outputs": []
    },
    {
      "cell_type": "code",
      "source": [
        "print(pot)"
      ],
      "metadata": {
        "colab": {
          "base_uri": "https://localhost:8080/"
        },
        "id": "X27auf9xPdy0",
        "outputId": "d1b20179-8eb4-4329-8e63-22488f4d4ef8"
      },
      "execution_count": 12,
      "outputs": [
        {
          "output_type": "stream",
          "name": "stdout",
          "text": [
            "100000000\n"
          ]
        }
      ]
    },
    {
      "cell_type": "code",
      "source": [
        "pot2 = pow(n1,n2)\n",
        "print(pot2)"
      ],
      "metadata": {
        "colab": {
          "base_uri": "https://localhost:8080/"
        },
        "id": "iEOyjyUdyh16",
        "outputId": "8b366532-448e-4786-baf5-c030f80e2db7"
      },
      "execution_count": 13,
      "outputs": [
        {
          "output_type": "stream",
          "name": "stdout",
          "text": [
            "100000000\n"
          ]
        }
      ]
    },
    {
      "cell_type": "markdown",
      "source": [
        "**Divisão**\n",
        "\n",
        "```\n",
        "Usando /, realiza divisão comum\n",
        "Usando //, realiza divisão sem resto (numero inteiro)\n",
        "Usando % para obter o resto da divisão\n",
        "```"
      ],
      "metadata": {
        "id": "IL3ejgFPyt-1"
      }
    },
    {
      "cell_type": "code",
      "source": [
        "div = n1 / n2\n",
        "print (div)"
      ],
      "metadata": {
        "colab": {
          "base_uri": "https://localhost:8080/"
        },
        "id": "IlS4JwIoyx3u",
        "outputId": "4e7febbe-4b03-496c-c92a-ad559aa30ef0"
      },
      "execution_count": 14,
      "outputs": [
        {
          "output_type": "stream",
          "name": "stdout",
          "text": [
            "1.25\n"
          ]
        }
      ]
    },
    {
      "cell_type": "code",
      "source": [
        "rest = n1 % n2\n",
        "rest"
      ],
      "metadata": {
        "colab": {
          "base_uri": "https://localhost:8080/"
        },
        "id": "6LZmvgjDz0wk",
        "outputId": "b3b2e22b-0884-4045-9062-804352d2bab7"
      },
      "execution_count": 15,
      "outputs": [
        {
          "output_type": "execute_result",
          "data": {
            "text/plain": [
              "2"
            ]
          },
          "metadata": {},
          "execution_count": 15
        }
      ]
    },
    {
      "cell_type": "markdown",
      "source": [
        "# **Importação de bibliotecas (pacotes) e módulos**"
      ],
      "metadata": {
        "id": "epJY5U6X5eMm"
      }
    },
    {
      "cell_type": "markdown",
      "source": [
        "## **Fazendo a importação do numpy**\n",
        "[Documentação NumPy](https://numpy.org/doc/stable/user/whatisnumpy.html)"
      ],
      "metadata": {
        "id": "5HilzqULFU0W"
      }
    },
    {
      "cell_type": "code",
      "source": [
        "import numpy as np"
      ],
      "metadata": {
        "id": "jV8pNVBU5t0u"
      },
      "execution_count": 16,
      "outputs": []
    },
    {
      "cell_type": "markdown",
      "source": [
        "raiz_quadrada = sqrt (25)\n",
        "\n",
        "```\n",
        "NameError                                 Traceback (most recent call last)\n",
        "<ipython-input-41-fca0cc5df2de> in <cell line: 1>()\n",
        "----> 1 raiz_quadrada = sqrt (25)\n",
        "\n",
        "NameError: name 'sqrt' is not defined\n",
        "\n",
        "```\n",
        "O erro acontece pois a **biblioteca Math** do Python **não foi importada**"
      ],
      "metadata": {
        "id": "hBKPTyxj-eXC"
      }
    },
    {
      "cell_type": "code",
      "source": [
        "import math"
      ],
      "metadata": {
        "id": "y3nfObuq-13e"
      },
      "execution_count": 17,
      "outputs": []
    },
    {
      "cell_type": "code",
      "source": [
        "n = 18"
      ],
      "metadata": {
        "id": "yyltD4zb-64B"
      },
      "execution_count": 18,
      "outputs": []
    },
    {
      "cell_type": "markdown",
      "source": [
        "###**Trabalhando com raízes, fatorial, random:**"
      ],
      "metadata": {
        "id": "7cTge_a9F2pO"
      }
    },
    {
      "cell_type": "markdown",
      "source": [
        "**{:.2f}** significa que, a resposta terá duas casas depois da vírgula.\n",
        "\n"
      ],
      "metadata": {
        "id": "8euRgkUM_hVg"
      }
    },
    {
      "cell_type": "code",
      "source": [
        "raiz = math.sqrt(n)\n",
        "print ('A raiz de {} é igual a {:.2f}' .format (n, raiz))"
      ],
      "metadata": {
        "colab": {
          "base_uri": "https://localhost:8080/"
        },
        "id": "sfbqI6Ak_AoZ",
        "outputId": "7bbb87f9-62a6-4188-fd40-5917449e528a"
      },
      "execution_count": 19,
      "outputs": [
        {
          "output_type": "stream",
          "name": "stdout",
          "text": [
            "A raiz de 18 é igual a 4.24\n"
          ]
        }
      ]
    },
    {
      "cell_type": "code",
      "source": [
        "print(f'A raiz quadrada de {n} é {raiz:.2f}')\n",
        "print('OBSERVAÇÃO: Essa é a forma mais ATUAL de se escrever, ao invés do .format')"
      ],
      "metadata": {
        "colab": {
          "base_uri": "https://localhost:8080/"
        },
        "id": "fxfZgM1RI0sn",
        "outputId": "76433544-f77b-4b8f-888d-8e61c8547347"
      },
      "execution_count": 20,
      "outputs": [
        {
          "output_type": "stream",
          "name": "stdout",
          "text": [
            "A raiz quadrada de 18 é 4.24\n",
            "OBSERVAÇÃO: Essa é a forma mais ATUAL de se escrever, ao invés do .format\n"
          ]
        }
      ]
    },
    {
      "cell_type": "code",
      "source": [
        "print (raiz)"
      ],
      "metadata": {
        "colab": {
          "base_uri": "https://localhost:8080/"
        },
        "id": "hobLNS-S_FfQ",
        "outputId": "ffc93cc1-4b74-4390-f4e8-ca21eb4bb1fb"
      },
      "execution_count": 21,
      "outputs": [
        {
          "output_type": "stream",
          "name": "stdout",
          "text": [
            "4.242640687119285\n"
          ]
        }
      ]
    },
    {
      "cell_type": "code",
      "source": [
        "math.sqrt(18)"
      ],
      "metadata": {
        "colab": {
          "base_uri": "https://localhost:8080/"
        },
        "id": "ceWoH6aGE53J",
        "outputId": "a83b6a46-c0f7-4c81-a21a-94a5a5677323"
      },
      "execution_count": 22,
      "outputs": [
        {
          "output_type": "execute_result",
          "data": {
            "text/plain": [
              "4.242640687119285"
            ]
          },
          "metadata": {},
          "execution_count": 22
        }
      ]
    },
    {
      "cell_type": "code",
      "source": [
        "raiz2 = n ** 0.5\n",
        "print(f' A raiz de {n} é: {raiz2:.18f}')"
      ],
      "metadata": {
        "colab": {
          "base_uri": "https://localhost:8080/"
        },
        "id": "0SM3JvocKWyG",
        "outputId": "b5131f64-ff66-43b7-fe07-2afebd7b3c72"
      },
      "execution_count": 23,
      "outputs": [
        {
          "output_type": "stream",
          "name": "stdout",
          "text": [
            " A raiz de 18 é: 4.242640687119284770\n"
          ]
        }
      ]
    },
    {
      "cell_type": "markdown",
      "source": [
        "Fazendo importação de **uma função ou mais funções** para não precisar chamá-la no math."
      ],
      "metadata": {
        "id": "p6LWuNNnOHnh"
      }
    },
    {
      "cell_type": "markdown",
      "source": [
        "srqt(36)\n",
        "\n",
        "---------------------------------------------------------------------------\n",
        "NameError                                 Traceback (most recent call last)\n",
        "<ipython-input-24-9368b3ab6b8e> in <cell line: 1>()\n",
        "----> 1 srqt(36)\n",
        "\n",
        "NameError: name 'srqt' is not defined\n"
      ],
      "metadata": {
        "id": "vVQWGdFJRMNW"
      }
    },
    {
      "cell_type": "code",
      "source": [
        "from math import sqrt, factorial\n",
        "# importanto raiz e fatorial\n",
        "\n",
        "raiz3 = sqrt(n)\n",
        "print(f'{raiz3:.3f}')"
      ],
      "metadata": {
        "colab": {
          "base_uri": "https://localhost:8080/"
        },
        "id": "FlSOjqcFL1Jh",
        "outputId": "4bc0ce26-44b1-4812-a171-467c2da77935"
      },
      "execution_count": 24,
      "outputs": [
        {
          "output_type": "stream",
          "name": "stdout",
          "text": [
            "4.243\n"
          ]
        }
      ]
    },
    {
      "cell_type": "code",
      "source": [
        "sqrt(36)"
      ],
      "metadata": {
        "colab": {
          "base_uri": "https://localhost:8080/"
        },
        "id": "h455PxCJMB1_",
        "outputId": "78629b19-2fc1-4ad0-9354-6e18be1ac3e5"
      },
      "execution_count": 25,
      "outputs": [
        {
          "output_type": "execute_result",
          "data": {
            "text/plain": [
              "6.0"
            ]
          },
          "metadata": {},
          "execution_count": 25
        }
      ]
    },
    {
      "cell_type": "code",
      "source": [
        "fat = factorial(5)\n",
        "fat"
      ],
      "metadata": {
        "colab": {
          "base_uri": "https://localhost:8080/"
        },
        "id": "keSzrIx_OofF",
        "outputId": "6e7f7870-ac11-4070-fdc3-c8369688fd34"
      },
      "execution_count": 26,
      "outputs": [
        {
          "output_type": "execute_result",
          "data": {
            "text/plain": [
              "120"
            ]
          },
          "metadata": {},
          "execution_count": 26
        }
      ]
    },
    {
      "cell_type": "code",
      "source": [
        "factorial(8)"
      ],
      "metadata": {
        "colab": {
          "base_uri": "https://localhost:8080/"
        },
        "id": "cO6qpI1fQU-e",
        "outputId": "b45c1a76-64cd-4e80-d824-6f892efc8d63"
      },
      "execution_count": 27,
      "outputs": [
        {
          "output_type": "execute_result",
          "data": {
            "text/plain": [
              "40320"
            ]
          },
          "metadata": {},
          "execution_count": 27
        }
      ]
    },
    {
      "cell_type": "code",
      "source": [
        "# a int foi declarada pois, como fatorial é recebe apenas número inteiro. Ra\n",
        "fatorial_raiz = factorial(int(sqrt(16)))\n",
        "fatorial_raiz"
      ],
      "metadata": {
        "colab": {
          "base_uri": "https://localhost:8080/"
        },
        "id": "WUDmP8C7QlX5",
        "outputId": "88fd9c02-472d-4983-cd42-6eaf105ca7d0"
      },
      "execution_count": 28,
      "outputs": [
        {
          "output_type": "execute_result",
          "data": {
            "text/plain": [
              "24"
            ]
          },
          "metadata": {},
          "execution_count": 28
        }
      ]
    },
    {
      "cell_type": "code",
      "source": [
        "import random\n",
        "num = random.randint(1, 10)\n",
        "#variável número recebe número e escolhe um número aleatório\n",
        "print(num)"
      ],
      "metadata": {
        "id": "x2ykn0MFXAUk",
        "colab": {
          "base_uri": "https://localhost:8080/"
        },
        "outputId": "e2f530af-ac19-4aef-8e38-c4c9e2e9308e"
      },
      "execution_count": 29,
      "outputs": [
        {
          "output_type": "stream",
          "name": "stdout",
          "text": [
            "1\n"
          ]
        }
      ]
    },
    {
      "cell_type": "code",
      "source": [
        "from random import random, randint\n",
        "#fazendo a importação da função diretamente, podendo escrever diretamente\n",
        "random?"
      ],
      "metadata": {
        "id": "RXYJKTFuHfTd"
      },
      "execution_count": 30,
      "outputs": []
    },
    {
      "cell_type": "code",
      "source": [
        "randint?"
      ],
      "metadata": {
        "id": "hYmjruv4KN3E"
      },
      "execution_count": 31,
      "outputs": []
    },
    {
      "cell_type": "code",
      "source": [
        "num2 = random()\n",
        "num2"
      ],
      "metadata": {
        "colab": {
          "base_uri": "https://localhost:8080/"
        },
        "id": "88vmSC7FKf3u",
        "outputId": "d95f5f98-0c42-41bb-e36b-9a361902d0f6"
      },
      "execution_count": 32,
      "outputs": [
        {
          "output_type": "execute_result",
          "data": {
            "text/plain": [
              "0.6152604870660877"
            ]
          },
          "metadata": {},
          "execution_count": 32
        }
      ]
    },
    {
      "cell_type": "code",
      "source": [
        "randint(18,26)"
      ],
      "metadata": {
        "colab": {
          "base_uri": "https://localhost:8080/"
        },
        "id": "HDbKkn5NKtb8",
        "outputId": "301fbed9-883d-4057-ccc2-a12d450be6e4"
      },
      "execution_count": 33,
      "outputs": [
        {
          "output_type": "execute_result",
          "data": {
            "text/plain": [
              "19"
            ]
          },
          "metadata": {},
          "execution_count": 33
        }
      ]
    },
    {
      "cell_type": "markdown",
      "source": [],
      "metadata": {
        "id": "KkOnma_ALLy2"
      }
    },
    {
      "cell_type": "markdown",
      "source": [
        "# **Estutura condicional**"
      ],
      "metadata": {
        "id": "4a8S6vgdLaR9"
      }
    },
    {
      "cell_type": "markdown",
      "source": [
        "if\n",
        "else\n",
        "elif"
      ],
      "metadata": {
        "id": "gkr4gWBuLgdQ"
      }
    },
    {
      "cell_type": "code",
      "source": [
        "nota = 6"
      ],
      "metadata": {
        "id": "s86WS097Ljkz"
      },
      "execution_count": 34,
      "outputs": []
    },
    {
      "cell_type": "code",
      "source": [
        "if nota >=6:\n",
        "    print('Aprovado')\n",
        "else:\n",
        "    print('Reprovado')"
      ],
      "metadata": {
        "colab": {
          "base_uri": "https://localhost:8080/"
        },
        "id": "YLuQna0OLn85",
        "outputId": "c5f07cd8-1b33-49e6-e05f-fa675a40af9c"
      },
      "execution_count": 35,
      "outputs": [
        {
          "output_type": "stream",
          "name": "stdout",
          "text": [
            "Aprovado\n"
          ]
        }
      ]
    },
    {
      "cell_type": "code",
      "source": [
        "if nota >=6:\n",
        "  print('Aprovado')\n",
        "elif nota >= 5 and nota< 6:\n",
        "    print('Recuperação')\n",
        "else:\n",
        "  print('Reprovado')"
      ],
      "metadata": {
        "colab": {
          "base_uri": "https://localhost:8080/"
        },
        "id": "viSfIMFHLyN-",
        "outputId": "52c1b1e5-4559-4bdf-dc7a-a7d557caab45"
      },
      "execution_count": 36,
      "outputs": [
        {
          "output_type": "stream",
          "name": "stdout",
          "text": [
            "Aprovado\n"
          ]
        }
      ]
    },
    {
      "cell_type": "markdown",
      "source": [
        "# **Estrutura de Repetição**"
      ],
      "metadata": {
        "id": "u5LO7piJM-Vp"
      }
    },
    {
      "cell_type": "markdown",
      "source": [
        "for e while"
      ],
      "metadata": {
        "id": "1YzCYhpsNGbJ"
      }
    },
    {
      "cell_type": "code",
      "source": [
        "for camis in range(0,4):\n",
        "  #segundo número é exclusivo\n",
        "  print(camis)"
      ],
      "metadata": {
        "id": "0cLL2PC5NHJs",
        "colab": {
          "base_uri": "https://localhost:8080/"
        },
        "outputId": "7189ef3b-0225-4984-94b4-e45184d46f56"
      },
      "execution_count": 37,
      "outputs": [
        {
          "output_type": "stream",
          "name": "stdout",
          "text": [
            "0\n",
            "1\n",
            "2\n",
            "3\n"
          ]
        }
      ]
    },
    {
      "cell_type": "code",
      "source": [
        "lista = [1, 2, 3, 4, 10]\n",
        "for numero in lista:\n",
        "  print(numero * 2)\n",
        "  #cada um dos números é multiplicado por 2"
      ],
      "metadata": {
        "colab": {
          "base_uri": "https://localhost:8080/"
        },
        "id": "XZOaxgIfRyKL",
        "outputId": "29bcc92f-884e-402b-d9cc-a85d218289be"
      },
      "execution_count": 38,
      "outputs": [
        {
          "output_type": "stream",
          "name": "stdout",
          "text": [
            "2\n",
            "4\n",
            "6\n",
            "8\n",
            "20\n"
          ]
        }
      ]
    },
    {
      "cell_type": "code",
      "source": [
        "soma = 0\n",
        "cont = 0\n",
        "\n",
        "for c in range (1, 6):\n",
        "  num=int(input('digite o {}o valor: '.format(c)))\n",
        "  #num recebe valor inteiro, pedindo para digitar o valor 5x, dentro do .format(c)\n",
        "  if num % 2 == 0:\n",
        "  # se o num for dividido por 2 e o resto da divisão for igual a 0, o número par\n",
        "  # então, ele é somado e contabilizado\n",
        "    soma = soma + num\n",
        "    cont = cont + 1\n",
        "print('Você informou {} números pares e a soma delas é igual a {}' .format(cont, soma))"
      ],
      "metadata": {
        "colab": {
          "base_uri": "https://localhost:8080/"
        },
        "id": "9cL_M83MSIjy",
        "outputId": "b2e68a4a-34dc-474d-fad8-026c07080343"
      },
      "execution_count": 39,
      "outputs": [
        {
          "output_type": "stream",
          "name": "stdout",
          "text": [
            "digite o 1o valor: 2\n",
            "digite o 2o valor: 2\n",
            "digite o 3o valor: 2\n",
            "digite o 4o valor: 2\n",
            "digite o 5o valor: 2\n",
            "Você informou 5 números pares e a soma delas é igual a 10\n"
          ]
        }
      ]
    },
    {
      "cell_type": "code",
      "source": [
        "c = 1\n",
        "#c inicia com valor 1\n",
        "while c < 10:\n",
        "#enquanto c é menor que 10\n",
        "  s = c + 10\n",
        "#variável S será igual a C + 10\n",
        "  print(s)\n",
        "#imprime S\n",
        "  c = c + 1\n",
        "\n",
        "print('FIM')"
      ],
      "metadata": {
        "colab": {
          "base_uri": "https://localhost:8080/"
        },
        "id": "DziQFHvdUFG6",
        "outputId": "46852c3f-4aa5-47b1-9673-d93399bc0c0d"
      },
      "execution_count": 40,
      "outputs": [
        {
          "output_type": "stream",
          "name": "stdout",
          "text": [
            "11\n",
            "12\n",
            "13\n",
            "14\n",
            "15\n",
            "16\n",
            "17\n",
            "18\n",
            "19\n",
            "FIM\n"
          ]
        }
      ]
    },
    {
      "cell_type": "code",
      "source": [
        "c = 1\n",
        "while c < 10:\n",
        "  s = c + 10\n",
        "  print(s)\n",
        "  c = c + 3\n",
        "\n",
        "print('FIM')"
      ],
      "metadata": {
        "colab": {
          "base_uri": "https://localhost:8080/"
        },
        "id": "8LkE_9s6V9ke",
        "outputId": "0d6c10c4-9bca-458d-9b3b-9fd948612a0b"
      },
      "execution_count": 41,
      "outputs": [
        {
          "output_type": "stream",
          "name": "stdout",
          "text": [
            "11\n",
            "14\n",
            "17\n",
            "FIM\n"
          ]
        }
      ]
    },
    {
      "cell_type": "markdown",
      "source": [
        "# **Listas, Tuplas e Dicionários**"
      ],
      "metadata": {
        "id": "-stQaiN1WeLS"
      }
    },
    {
      "cell_type": "markdown",
      "source": [
        "**LISTAS [ ]**"
      ],
      "metadata": {
        "id": "4atkCgRaYTGo"
      }
    },
    {
      "cell_type": "code",
      "source": [
        "num = [2, 5, 7, 9]"
      ],
      "metadata": {
        "id": "CNlkqTKmYEe1"
      },
      "execution_count": 42,
      "outputs": []
    },
    {
      "cell_type": "code",
      "source": [
        "num[3]"
      ],
      "metadata": {
        "colab": {
          "base_uri": "https://localhost:8080/"
        },
        "id": "jzlL7YxDaTju",
        "outputId": "feb01666-0857-4799-e1a0-fdf1f2245a77"
      },
      "execution_count": 43,
      "outputs": [
        {
          "output_type": "execute_result",
          "data": {
            "text/plain": [
              "9"
            ]
          },
          "metadata": {},
          "execution_count": 43
        }
      ]
    },
    {
      "cell_type": "code",
      "source": [
        "num"
      ],
      "metadata": {
        "colab": {
          "base_uri": "https://localhost:8080/"
        },
        "id": "CA4QdqJhasJC",
        "outputId": "b262fdc9-86df-470f-be60-470a6320a977"
      },
      "execution_count": 44,
      "outputs": [
        {
          "output_type": "execute_result",
          "data": {
            "text/plain": [
              "[2, 5, 7, 9]"
            ]
          },
          "metadata": {},
          "execution_count": 44
        }
      ]
    },
    {
      "cell_type": "code",
      "source": [
        "num[3] = 4"
      ],
      "metadata": {
        "id": "oGJQISF1a3jg"
      },
      "execution_count": 45,
      "outputs": []
    },
    {
      "cell_type": "code",
      "source": [
        "num"
      ],
      "metadata": {
        "colab": {
          "base_uri": "https://localhost:8080/"
        },
        "id": "ljLau4JZa7RW",
        "outputId": "92cd037f-ba25-4a68-cf53-c406b04d92a3"
      },
      "execution_count": 46,
      "outputs": [
        {
          "output_type": "execute_result",
          "data": {
            "text/plain": [
              "[2, 5, 7, 4]"
            ]
          },
          "metadata": {},
          "execution_count": 46
        }
      ]
    },
    {
      "cell_type": "code",
      "source": [
        "num.append(8) #adiciona número no final da lista\n",
        "num"
      ],
      "metadata": {
        "colab": {
          "base_uri": "https://localhost:8080/"
        },
        "id": "50UitJYca-T7",
        "outputId": "6dbcb36b-79ef-4f24-eda5-d621e4a2b9c0"
      },
      "execution_count": 47,
      "outputs": [
        {
          "output_type": "execute_result",
          "data": {
            "text/plain": [
              "[2, 5, 7, 4, 8]"
            ]
          },
          "metadata": {},
          "execution_count": 47
        }
      ]
    },
    {
      "cell_type": "code",
      "source": [
        "num.sort() #coloca em ordem crescente\n",
        "num"
      ],
      "metadata": {
        "colab": {
          "base_uri": "https://localhost:8080/"
        },
        "id": "QJU36U80bJLB",
        "outputId": "200be9f0-f65f-4d95-d286-c25269a8c9a9"
      },
      "execution_count": 48,
      "outputs": [
        {
          "output_type": "execute_result",
          "data": {
            "text/plain": [
              "[2, 4, 5, 7, 8]"
            ]
          },
          "metadata": {},
          "execution_count": 48
        }
      ]
    },
    {
      "cell_type": "code",
      "source": [
        "num.insert(2, 0) #adiciona na posição 2 o número 0\n",
        "num"
      ],
      "metadata": {
        "colab": {
          "base_uri": "https://localhost:8080/"
        },
        "id": "VCiP0ncPc1ts",
        "outputId": "0105f07b-d957-4e2c-ea2d-16e7860dad1d"
      },
      "execution_count": 49,
      "outputs": [
        {
          "output_type": "execute_result",
          "data": {
            "text/plain": [
              "[2, 4, 0, 5, 7, 8]"
            ]
          },
          "metadata": {},
          "execution_count": 49
        }
      ]
    },
    {
      "cell_type": "code",
      "source": [
        "num.remove(4) #remove o número 4 da lista\n",
        "num"
      ],
      "metadata": {
        "colab": {
          "base_uri": "https://localhost:8080/"
        },
        "id": "BaI8YP9piORf",
        "outputId": "d603f584-e154-406b-dd01-8f951c2819f1"
      },
      "execution_count": 50,
      "outputs": [
        {
          "output_type": "execute_result",
          "data": {
            "text/plain": [
              "[2, 0, 5, 7, 8]"
            ]
          },
          "metadata": {},
          "execution_count": 50
        }
      ]
    },
    {
      "cell_type": "code",
      "source": [
        "num.pop(3) #remove o elemento na posição 3\n",
        "num"
      ],
      "metadata": {
        "colab": {
          "base_uri": "https://localhost:8080/"
        },
        "id": "GSAErBGii7u6",
        "outputId": "593b5e72-125a-40fa-a432-686df66a9eed"
      },
      "execution_count": 51,
      "outputs": [
        {
          "output_type": "execute_result",
          "data": {
            "text/plain": [
              "[2, 0, 5, 8]"
            ]
          },
          "metadata": {},
          "execution_count": 51
        }
      ]
    },
    {
      "cell_type": "markdown",
      "source": [
        "**TUPLAS ( )**"
      ],
      "metadata": {
        "id": "zZmQGXZBoGtv"
      }
    },
    {
      "cell_type": "markdown",
      "source": [
        "Tupla é imutável."
      ],
      "metadata": {
        "id": "mpnYFYCHoOlb"
      }
    },
    {
      "cell_type": "code",
      "source": [
        "num2 = (2, 5, 7, 9)"
      ],
      "metadata": {
        "id": "gRhb25BvoJJk"
      },
      "execution_count": null,
      "outputs": []
    },
    {
      "cell_type": "markdown",
      "source": [
        "**DICIONÁRIO { }**"
      ],
      "metadata": {
        "id": "QlAl4EQOoRfJ"
      }
    },
    {
      "cell_type": "code",
      "source": [
        "pessoa = {'nome':'Camis', 'sexo':'fem', 'idade': 24} #número não recebe aspas\n",
        "#lista possui uma relação 'chave' : 'valor'\n",
        "print(pessoa)"
      ],
      "metadata": {
        "colab": {
          "base_uri": "https://localhost:8080/"
        },
        "id": "FwS67R1WolVK",
        "outputId": "ecf5fde1-2676-4986-a95c-c904860ffe4c"
      },
      "execution_count": 53,
      "outputs": [
        {
          "output_type": "stream",
          "name": "stdout",
          "text": [
            "{'nome': 'Camis', 'sexo': 'fem', 'idade': 24}\n"
          ]
        }
      ]
    },
    {
      "cell_type": "code",
      "source": [
        "pessoa['ídolo'] = 'Beyoncé'\n",
        "print(pessoa)"
      ],
      "metadata": {
        "colab": {
          "base_uri": "https://localhost:8080/"
        },
        "id": "PU6iEGtIqlcA",
        "outputId": "cd7c7071-474f-4ec5-a5c8-fbcd4d4a4bd3"
      },
      "execution_count": 54,
      "outputs": [
        {
          "output_type": "stream",
          "name": "stdout",
          "text": [
            "{'nome': 'Camis', 'sexo': 'fem', 'idade': 24, 'ídolo': 'Beyoncé'}\n"
          ]
        }
      ]
    },
    {
      "cell_type": "code",
      "source": [
        "del pessoa['sexo']\n",
        "print(pessoa)"
      ],
      "metadata": {
        "colab": {
          "base_uri": "https://localhost:8080/"
        },
        "id": "COkLgKRHq0Tl",
        "outputId": "ded0c583-bf62-455b-a5cf-4764c7bdff21"
      },
      "execution_count": 55,
      "outputs": [
        {
          "output_type": "stream",
          "name": "stdout",
          "text": [
            "{'nome': 'Camis', 'idade': 24, 'ídolo': 'Beyoncé'}\n"
          ]
        }
      ]
    },
    {
      "cell_type": "markdown",
      "source": [
        "# **Funções**"
      ],
      "metadata": {
        "id": "8JsxH10O0PDA"
      }
    },
    {
      "cell_type": "code",
      "source": [
        "def identificacao(nome,idade): #\\n é para pular linha\n",
        "  print('Olá', nome, '\\nVocê é jovem, tem apenas', idade, 'anos')"
      ],
      "metadata": {
        "id": "m0R1oHPL0Sxv"
      },
      "execution_count": 59,
      "outputs": []
    },
    {
      "cell_type": "code",
      "source": [
        "identificacao('Camis', 24)"
      ],
      "metadata": {
        "colab": {
          "base_uri": "https://localhost:8080/"
        },
        "id": "B6-TDZP104ZM",
        "outputId": "5672f4ac-5190-4f20-d7e7-4a4c40596e10"
      },
      "execution_count": 60,
      "outputs": [
        {
          "output_type": "stream",
          "name": "stdout",
          "text": [
            "Olá Camis \n",
            "Você é jovem, tem apenas 24 anos\n"
          ]
        }
      ]
    },
    {
      "cell_type": "code",
      "source": [
        "def maior(x,y):\n",
        "  if x < y:\n",
        "    print('O maior número é', y)\n",
        "  elif x == y:\n",
        "    print('Os números são iguais')\n",
        "  else:\n",
        "    print('O maior número é', x)"
      ],
      "metadata": {
        "id": "Ya8avTa91PJr"
      },
      "execution_count": 61,
      "outputs": []
    },
    {
      "cell_type": "code",
      "source": [
        "maior(27, 18)"
      ],
      "metadata": {
        "colab": {
          "base_uri": "https://localhost:8080/"
        },
        "id": "lOzDiYfx1xx4",
        "outputId": "1fe5527f-ff08-4d33-b6c8-f4e2a4b64d6d"
      },
      "execution_count": 65,
      "outputs": [
        {
          "output_type": "stream",
          "name": "stdout",
          "text": [
            "O maior número é 27\n"
          ]
        }
      ]
    },
    {
      "cell_type": "code",
      "source": [
        "def pitagoras (cat1, cat2, hip):\n",
        "  if hip =='?':\n",
        "    hip = (cat1**2+cat2**2)**(1/2)\n",
        "    print('A hipotenusa é', hip)\n",
        "  elif cat1 =='?':\n",
        "    cat1 = (hip**2-cat2**2)**(1/2)\n",
        "    print('O cateto é', cat1)\n",
        "  elif cat2 == '?':\n",
        "    cat2 =(hip**2-cat1**2)**(1/2)\n",
        "    print('O cateto é', cat2)"
      ],
      "metadata": {
        "id": "BdIBkycT3aNv"
      },
      "execution_count": 77,
      "outputs": []
    },
    {
      "cell_type": "code",
      "source": [
        "pitagoras ('?',3,5)"
      ],
      "metadata": {
        "colab": {
          "base_uri": "https://localhost:8080/"
        },
        "id": "5hsDu7JS7nD3",
        "outputId": "c76088ef-04c2-4285-de43-027d032ce247"
      },
      "execution_count": 83,
      "outputs": [
        {
          "output_type": "stream",
          "name": "stdout",
          "text": [
            "O cateto é 4.0\n"
          ]
        }
      ]
    },
    {
      "cell_type": "code",
      "source": [
        "pitagoras (3,'?',5)"
      ],
      "metadata": {
        "colab": {
          "base_uri": "https://localhost:8080/"
        },
        "id": "DkhPMi1s8Rb6",
        "outputId": "42efde52-cdeb-4abe-e2b5-e669d15e2b6c"
      },
      "execution_count": 82,
      "outputs": [
        {
          "output_type": "stream",
          "name": "stdout",
          "text": [
            "O cateto é 4.0\n"
          ]
        }
      ]
    },
    {
      "cell_type": "code",
      "source": [
        "pitagoras (3, 4,'?')"
      ],
      "metadata": {
        "colab": {
          "base_uri": "https://localhost:8080/"
        },
        "id": "Bo2Nf0BC8WW8",
        "outputId": "b5a1e0d7-b057-424a-96fe-fa4adf431e02"
      },
      "execution_count": 81,
      "outputs": [
        {
          "output_type": "stream",
          "name": "stdout",
          "text": [
            "A hipotenusa é 5.0\n"
          ]
        }
      ]
    },
    {
      "cell_type": "markdown",
      "source": [
        "# **Função lambda e map**"
      ],
      "metadata": {
        "id": "xpgE575L8--g"
      }
    },
    {
      "cell_type": "markdown",
      "source": [
        "Forma simplificada de escrever funções"
      ],
      "metadata": {
        "id": "Ot2rAsDq8-mB"
      }
    },
    {
      "cell_type": "markdown",
      "source": [
        "\n",
        "\n",
        "> Exemplo sem lambda:\n"
      ],
      "metadata": {
        "id": "qfjt1O6G_J7e"
      }
    },
    {
      "cell_type": "code",
      "source": [
        "def area_quadrado (L):\n",
        "  area = L**2\n",
        "  print(area)"
      ],
      "metadata": {
        "id": "WrKZG4Ft9Eln"
      },
      "execution_count": 84,
      "outputs": []
    },
    {
      "cell_type": "code",
      "source": [
        "area_quadrado(4)"
      ],
      "metadata": {
        "colab": {
          "base_uri": "https://localhost:8080/"
        },
        "id": "7BCegFnT_Qfy",
        "outputId": "ea045041-f57f-4d12-e814-dc8dad9eb26d"
      },
      "execution_count": 85,
      "outputs": [
        {
          "output_type": "stream",
          "name": "stdout",
          "text": [
            "16\n"
          ]
        }
      ]
    },
    {
      "cell_type": "markdown",
      "source": [
        "> Usando lambda"
      ],
      "metadata": {
        "id": "8w1tzRpB_T0K"
      }
    },
    {
      "cell_type": "code",
      "source": [
        "area_quadrado2 = lambda x: x**2"
      ],
      "metadata": {
        "id": "iBfic29z_ZvW"
      },
      "execution_count": 88,
      "outputs": []
    },
    {
      "cell_type": "code",
      "source": [
        "area_quadrado2(7)"
      ],
      "metadata": {
        "colab": {
          "base_uri": "https://localhost:8080/"
        },
        "id": "2063sdiA_nBF",
        "outputId": "9833bc8e-2ff0-4651-a6a1-24951796cdf1"
      },
      "execution_count": 89,
      "outputs": [
        {
          "output_type": "execute_result",
          "data": {
            "text/plain": [
              "49"
            ]
          },
          "metadata": {},
          "execution_count": 89
        }
      ]
    },
    {
      "cell_type": "code",
      "source": [
        "area_retangulo = lambda b, h: b*h"
      ],
      "metadata": {
        "id": "TYtjtPgQ_vgd"
      },
      "execution_count": 90,
      "outputs": []
    },
    {
      "cell_type": "code",
      "source": [
        "area_retangulo(4,7)"
      ],
      "metadata": {
        "colab": {
          "base_uri": "https://localhost:8080/"
        },
        "id": "Gfg3239n_2nO",
        "outputId": "d9dfbd88-0c09-46b0-d0ed-d71d982ee505"
      },
      "execution_count": 91,
      "outputs": [
        {
          "output_type": "execute_result",
          "data": {
            "text/plain": [
              "28"
            ]
          },
          "metadata": {},
          "execution_count": 91
        }
      ]
    },
    {
      "cell_type": "code",
      "source": [
        "#Uma vantagem é quando se utiliza juntamente a outros métodos\n",
        "L = [4, 5,6,7,11,9,10]\n",
        "areas = list(map(lambda x: x**2, L))\n",
        "print(areas)"
      ],
      "metadata": {
        "colab": {
          "base_uri": "https://localhost:8080/"
        },
        "id": "oneZ0NugAnIR",
        "outputId": "179b3997-299e-4276-925f-17bfcd079b1f"
      },
      "execution_count": 92,
      "outputs": [
        {
          "output_type": "stream",
          "name": "stdout",
          "text": [
            "[16, 25, 36, 49, 121, 81, 100]\n"
          ]
        }
      ]
    },
    {
      "cell_type": "code",
      "source": [],
      "metadata": {
        "id": "u2AxUXorCYx8"
      },
      "execution_count": null,
      "outputs": []
    },
    {
      "cell_type": "markdown",
      "source": [
        "# **List Comprehension**"
      ],
      "metadata": {
        "id": "cZJlhgz0CZak"
      }
    },
    {
      "cell_type": "markdown",
      "source": [
        "Otimiza a utilização de listas e diminui linhas de código"
      ],
      "metadata": {
        "id": "_POUGWurChW2"
      }
    },
    {
      "cell_type": "code",
      "source": [
        "lista=[]\n",
        "for valor in range (5):\n",
        "  lista.append(valor+10)\n",
        "print(lista)"
      ],
      "metadata": {
        "colab": {
          "base_uri": "https://localhost:8080/"
        },
        "id": "O5YXLcRqCqsn",
        "outputId": "b2fedec4-45f6-4ba0-aee3-f2ebb453c9d0"
      },
      "execution_count": 94,
      "outputs": [
        {
          "output_type": "stream",
          "name": "stdout",
          "text": [
            "[10, 11, 12, 13, 14]\n"
          ]
        }
      ]
    },
    {
      "cell_type": "markdown",
      "source": [
        "> Com list comprehensiom"
      ],
      "metadata": {
        "id": "X195lJWGGIDt"
      }
    },
    {
      "cell_type": "code",
      "source": [
        "#Comandos dentro do [], ação a ser feita e estrutura for\n",
        "lista = [valor+10 for valor in range(5)]\n",
        "print(lista)"
      ],
      "metadata": {
        "colab": {
          "base_uri": "https://localhost:8080/"
        },
        "id": "PKfGvkOcF91O",
        "outputId": "d0acd249-7f7d-4a68-dc62-45e26143de41"
      },
      "execution_count": 96,
      "outputs": [
        {
          "output_type": "stream",
          "name": "stdout",
          "text": [
            "[10, 11, 12, 13, 14]\n"
          ]
        }
      ]
    },
    {
      "cell_type": "code",
      "source": [
        "lista = []\n",
        "for numero in range (1, 30):\n",
        "  if numero % 4 == 0:\n",
        "    lista.append(numero)\n",
        "print(lista)"
      ],
      "metadata": {
        "colab": {
          "base_uri": "https://localhost:8080/"
        },
        "id": "bFGBr9WDHSej",
        "outputId": "62797c44-9cfb-4653-81c2-884f7cc31af4"
      },
      "execution_count": 99,
      "outputs": [
        {
          "output_type": "stream",
          "name": "stdout",
          "text": [
            "[4, 8, 12, 16, 20, 24, 28]\n"
          ]
        }
      ]
    },
    {
      "cell_type": "code",
      "source": [
        "multiplos4 = [numero for numero in range(1,30) if numero % 4 == 0]\n",
        "print(multiplos4)"
      ],
      "metadata": {
        "colab": {
          "base_uri": "https://localhost:8080/"
        },
        "id": "kNJb6Q48Iizw",
        "outputId": "36b43268-c674-4c68-8145-e958747d5353"
      },
      "execution_count": 100,
      "outputs": [
        {
          "output_type": "stream",
          "name": "stdout",
          "text": [
            "[4, 8, 12, 16, 20, 24, 28]\n"
          ]
        }
      ]
    },
    {
      "cell_type": "code",
      "source": [
        "conceito = ['azul' if nota>=6 else 'vermelha' for nota in range(1,11)]\n",
        "print(conceito)"
      ],
      "metadata": {
        "colab": {
          "base_uri": "https://localhost:8080/"
        },
        "id": "YR2QUr4OKddv",
        "outputId": "c6c9760d-1473-444e-85f5-c85320c17514"
      },
      "execution_count": 101,
      "outputs": [
        {
          "output_type": "stream",
          "name": "stdout",
          "text": [
            "['vermelha', 'vermelha', 'vermelha', 'vermelha', 'vermelha', 'azul', 'azul', 'azul', 'azul', 'azul']\n"
          ]
        }
      ]
    },
    {
      "cell_type": "markdown",
      "source": [
        "# **Vetores (arrays) e matrizes**"
      ],
      "metadata": {
        "id": "pmr3OUixz_0o"
      }
    },
    {
      "cell_type": "markdown",
      "source": [
        "**MATRIZ**\n",
        "\n",
        "1 3 5 7\n",
        "\n",
        "2 4 6 8\n",
        "\n",
        "0 1 2 3\n",
        "\n",
        "**VETOR**\n",
        "\n",
        "5 10 15 20\n",
        "\n",
        "*ou*\n",
        "\n",
        "3\n",
        "\n",
        "4\n",
        "\n",
        "5"
      ],
      "metadata": {
        "id": "H1OtAr7oLfoU"
      }
    },
    {
      "cell_type": "code",
      "source": [
        "vetor = [2,4,6,8]"
      ],
      "metadata": {
        "id": "Ck3imeuqLgon"
      },
      "execution_count": 103,
      "outputs": []
    },
    {
      "cell_type": "code",
      "source": [
        "type(vetor)"
      ],
      "metadata": {
        "colab": {
          "base_uri": "https://localhost:8080/"
        },
        "id": "1KxDtnyFMJDm",
        "outputId": "0aeec175-550a-4a46-b3ad-a523f0941848"
      },
      "execution_count": 104,
      "outputs": [
        {
          "output_type": "execute_result",
          "data": {
            "text/plain": [
              "list"
            ]
          },
          "metadata": {},
          "execution_count": 104
        }
      ]
    },
    {
      "cell_type": "code",
      "source": [
        "matriz = [[2,4,6],\n",
        "          [3,6,9],\n",
        "          [4,8,12]]"
      ],
      "metadata": {
        "id": "hEHmMBLaMLrS"
      },
      "execution_count": 105,
      "outputs": []
    },
    {
      "cell_type": "code",
      "source": [
        "type(matriz)"
      ],
      "metadata": {
        "colab": {
          "base_uri": "https://localhost:8080/"
        },
        "id": "Bs9rBwmtMZuQ",
        "outputId": "0ae4e39c-ccf8-44e3-85de-37357572557b"
      },
      "execution_count": 106,
      "outputs": [
        {
          "output_type": "execute_result",
          "data": {
            "text/plain": [
              "list"
            ]
          },
          "metadata": {},
          "execution_count": 106
        }
      ]
    },
    {
      "cell_type": "code",
      "source": [
        "print(matriz)"
      ],
      "metadata": {
        "colab": {
          "base_uri": "https://localhost:8080/"
        },
        "id": "bzX-hEXUMb7o",
        "outputId": "9d87dbe7-282d-405b-9772-b9a4a1c009dc"
      },
      "execution_count": 107,
      "outputs": [
        {
          "output_type": "stream",
          "name": "stdout",
          "text": [
            "[[2, 4, 6], [3, 6, 9], [4, 8, 12]]\n"
          ]
        }
      ]
    },
    {
      "cell_type": "code",
      "source": [
        "import numpy as np"
      ],
      "metadata": {
        "id": "4K9yj9szMqbA"
      },
      "execution_count": 108,
      "outputs": []
    },
    {
      "cell_type": "code",
      "source": [
        "vetor2 = np.array([1,-3,4.2,5])"
      ],
      "metadata": {
        "id": "To2P08KzMxxP"
      },
      "execution_count": 109,
      "outputs": []
    },
    {
      "cell_type": "code",
      "source": [
        "type(vetor2)"
      ],
      "metadata": {
        "colab": {
          "base_uri": "https://localhost:8080/"
        },
        "id": "619TFEw4M4sg",
        "outputId": "5fb8c652-27ff-43cc-8def-902089bbf90a"
      },
      "execution_count": 110,
      "outputs": [
        {
          "output_type": "execute_result",
          "data": {
            "text/plain": [
              "numpy.ndarray"
            ]
          },
          "metadata": {},
          "execution_count": 110
        }
      ]
    },
    {
      "cell_type": "code",
      "source": [
        "print(vetor2)"
      ],
      "metadata": {
        "colab": {
          "base_uri": "https://localhost:8080/"
        },
        "id": "mxtH6umfM7bI",
        "outputId": "6f856d5a-0429-47fe-b777-f1a2422691b4"
      },
      "execution_count": 111,
      "outputs": [
        {
          "output_type": "stream",
          "name": "stdout",
          "text": [
            "[ 1.  -3.   4.2  5. ]\n"
          ]
        }
      ]
    },
    {
      "cell_type": "code",
      "source": [
        "matriz2 = np.ones((2,3)) #2 linhas e 3 colunas; ones = 1\n",
        "matriz2"
      ],
      "metadata": {
        "colab": {
          "base_uri": "https://localhost:8080/"
        },
        "id": "NUizf3krM_v3",
        "outputId": "c438c67e-cb99-4522-e6b2-4e19a8e184d1"
      },
      "execution_count": 112,
      "outputs": [
        {
          "output_type": "execute_result",
          "data": {
            "text/plain": [
              "array([[1., 1., 1.],\n",
              "       [1., 1., 1.]])"
            ]
          },
          "metadata": {},
          "execution_count": 112
        }
      ]
    },
    {
      "cell_type": "code",
      "source": [
        "matriz3 = np.diag((2,4,6,8,10))\n",
        "#np = objeto, diag = metodo (se tiver parenteses ao lado dele)\n",
        "#se nao tiver eh um atributo)\n",
        "#o que esta dentro dos parenteses sao os parametros\n",
        "matriz3"
      ],
      "metadata": {
        "colab": {
          "base_uri": "https://localhost:8080/"
        },
        "id": "vRK8EfosNax2",
        "outputId": "c5b0b679-d4f7-4951-e2f7-0bc7dff12920"
      },
      "execution_count": 113,
      "outputs": [
        {
          "output_type": "execute_result",
          "data": {
            "text/plain": [
              "array([[ 2,  0,  0,  0,  0],\n",
              "       [ 0,  4,  0,  0,  0],\n",
              "       [ 0,  0,  6,  0,  0],\n",
              "       [ 0,  0,  0,  8,  0],\n",
              "       [ 0,  0,  0,  0, 10]])"
            ]
          },
          "metadata": {},
          "execution_count": 113
        }
      ]
    },
    {
      "cell_type": "code",
      "source": [
        "type(matriz3)"
      ],
      "metadata": {
        "colab": {
          "base_uri": "https://localhost:8080/"
        },
        "id": "z1RlnfyXNw3P",
        "outputId": "b2ca08ff-afdc-49e7-ebe2-180a6cf9e158"
      },
      "execution_count": 114,
      "outputs": [
        {
          "output_type": "execute_result",
          "data": {
            "text/plain": [
              "numpy.ndarray"
            ]
          },
          "metadata": {},
          "execution_count": 114
        }
      ]
    },
    {
      "cell_type": "markdown",
      "source": [],
      "metadata": {
        "id": "pfvY81F0NLWr"
      }
    }
  ]
}
